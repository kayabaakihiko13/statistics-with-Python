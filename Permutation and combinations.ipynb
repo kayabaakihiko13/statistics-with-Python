{
 "cells": [
  {
   "cell_type": "code",
   "execution_count": 28,
   "id": "c2ba91e6",
   "metadata": {},
   "outputs": [],
   "source": [
    "## Himpunan"
   ]
  },
  {
   "cell_type": "code",
   "execution_count": 29,
   "id": "3a371260",
   "metadata": {},
   "outputs": [],
   "source": [
    "# data Types (set)"
   ]
  },
  {
   "cell_type": "code",
   "execution_count": 21,
   "id": "1a425392",
   "metadata": {},
   "outputs": [],
   "source": [
    "import itertools as it"
   ]
  },
  {
   "cell_type": "code",
   "execution_count": 31,
   "id": "003dc9ec",
   "metadata": {},
   "outputs": [
    {
     "name": "stdout",
     "output_type": "stream",
     "text": [
      "{1, 2, 3}\n"
     ]
    }
   ],
   "source": [
    "data_set ={1,2,3}\n",
    "print(data_set)"
   ]
  },
  {
   "cell_type": "code",
   "execution_count": 32,
   "id": "c915e81d",
   "metadata": {},
   "outputs": [
    {
     "name": "stdout",
     "output_type": "stream",
     "text": [
      "<class 'set'>\n"
     ]
    }
   ],
   "source": [
    "print(type(data_set))"
   ]
  },
  {
   "cell_type": "code",
   "execution_count": 16,
   "id": "00f85845",
   "metadata": {},
   "outputs": [
    {
     "name": "stdout",
     "output_type": "stream",
     "text": [
      "{'minggu', 'senin', 'kamis', \"jum'at\", 'sabtu', 'selasa', 'rabu'}\n"
     ]
    }
   ],
   "source": [
    "days = {\"senin\",\"selasa\",\"rabu\",\"kamis\",\"jum'at\",\"sabtu\",\"minggu\"}\n",
    "print(len(days))"
   ]
  },
  {
   "cell_type": "code",
   "execution_count": 9,
   "id": "95738b64",
   "metadata": {},
   "outputs": [
    {
     "name": "stdout",
     "output_type": "stream",
     "text": [
      "<class 'set'>\n",
      "<class 'dict'>\n"
     ]
    }
   ],
   "source": [
    "data_1 = set()\n",
    "data_2 ={}\n",
    "print(type(data_1))\n",
    "print(type(data_2))"
   ]
  },
  {
   "cell_type": "code",
   "execution_count": 10,
   "id": "1dd9b982",
   "metadata": {},
   "outputs": [
    {
     "name": "stdout",
     "output_type": "stream",
     "text": [
      "1\n",
      "errors\n"
     ]
    }
   ],
   "source": [
    "# subset menggunakan loop\n",
    "days = days\n",
    "lenght=int(input())\n",
    "begin = 0\n",
    "for data in days:\n",
    "    if data in days:\n",
    "        begin+=1\n",
    "        pass\n",
    "    else :\n",
    "        continue\n",
    "if begin ==lenght:\n",
    "    print('oke')\n",
    "else :\n",
    "    print('errors')\n",
    "        "
   ]
  },
  {
   "cell_type": "code",
   "execution_count": 17,
   "id": "c564a6dc",
   "metadata": {},
   "outputs": [
    {
     "name": "stdout",
     "output_type": "stream",
     "text": [
      "minggu\n",
      "senin\n",
      "kamis\n",
      "jum'at\n",
      "sabtu\n",
      "selasa\n",
      "rabu\n"
     ]
    }
   ],
   "source": [
    "# mengurutkan bedasarkan jumlah char\n",
    "Set = days\n",
    "para = 0\n",
    "for subset in Set:\n",
    "    if subset in Set:\n",
    "        para+=1\n",
    "    print(subset)"
   ]
  },
  {
   "cell_type": "code",
   "execution_count": 68,
   "id": "56f59953",
   "metadata": {},
   "outputs": [
    {
     "name": "stdout",
     "output_type": "stream",
     "text": [
      "3\n"
     ]
    }
   ],
   "source": [
    "data = []\n",
    "lenght = int(input())\n",
    "for a in range(2,lenght):\n",
    "    for x in range(2,a):\n",
    "        if a%2 ==0:\n",
    "            print(f'{a}=prime')"
   ]
  },
  {
   "cell_type": "code",
   "execution_count": 38,
   "id": "062ac74f",
   "metadata": {},
   "outputs": [],
   "source": [
    "# method subset"
   ]
  },
  {
   "cell_type": "code",
   "execution_count": 36,
   "id": "33f1a184",
   "metadata": {},
   "outputs": [
    {
     "data": {
      "text/plain": [
       "True"
      ]
     },
     "execution_count": 36,
     "metadata": {},
     "output_type": "execute_result"
    }
   ],
   "source": [
    "# check set with isset()\n",
    "days.issubset(days)"
   ]
  },
  {
   "cell_type": "code",
   "execution_count": 39,
   "id": "8c28cd3f",
   "metadata": {},
   "outputs": [
    {
     "name": "stdout",
     "output_type": "stream",
     "text": [
      "{'kelas B', 'kelas D'}\n"
     ]
    }
   ],
   "source": [
    "# irisan \n",
    "data_1= {'kelas A','kelas B','Kelas A',\"kelas D\",\"kelas A\"}\n",
    "data_2 = {'kelas B','kelas C','kelas D','kelas D','kelas B'}\n",
    "print(data_1.intersection(data_2))"
   ]
  },
  {
   "cell_type": "code",
   "execution_count": 2,
   "id": "20ed8b69",
   "metadata": {},
   "outputs": [
    {
     "name": "stdout",
     "output_type": "stream",
     "text": [
      "{'es teh', 'es jeruk', 'teh hagat', 'air putih', 'mie goreng', 'nasi campur', 'nasi goroeng'}\n"
     ]
    }
   ],
   "source": [
    "# Gabungan\n",
    "# nethod .union()\n",
    "data_1 ={'nasi goroeng','mie goreng','nasi campur'}\n",
    "data_2 = {'es teh','air putih','es jeruk','teh hagat'}\n",
    "gabungan = data_1.union(data_2) \n",
    "print(gabungan)"
   ]
  },
  {
   "cell_type": "code",
   "execution_count": 18,
   "id": "504655ab",
   "metadata": {},
   "outputs": [
    {
     "name": "stdout",
     "output_type": "stream",
     "text": [
      "3\n",
      "1\n",
      "2\n",
      "{1, 2, 3}\n"
     ]
    }
   ],
   "source": [
    "# .add()\n",
    "set_=[]\n",
    "l = int(input())\n",
    "for i in range(0,):\n",
    "    ele = int(input())\n",
    "    set_.append(ele)\n",
    "# casting\n",
    "print(set(set_))"
   ]
  },
  {
   "cell_type": "code",
   "execution_count": null,
   "id": "9f0b3380",
   "metadata": {},
   "outputs": [],
   "source": [
    "# The PERMUTATIONS\n",
    "# using data type list\n",
    "# list is a bunch data\n",
    "# and the form the permutasion = itertools.permutations(itterable,r)\n",
    "# P= N!/r!\n",
    "\n",
    "# first we import the pakage\n",
    "data = [1,2,3,4]\n",
    "\n",
    "permutasi = it.permutations(data)\n",
    "# how to call the output in itertools\n",
    "for i in permutasi:\n",
    "    print(i)"
   ]
  },
  {
   "cell_type": "code",
   "execution_count": 42,
   "id": "ea2e00e2",
   "metadata": {},
   "outputs": [
    {
     "name": "stdout",
     "output_type": "stream",
     "text": [
      "5\n",
      "1\n",
      "2\n",
      "3\n",
      "4\n",
      "5\n",
      "[1, 2, 3, 4, 5]\n"
     ]
    }
   ],
   "source": [
    "# make input the list\n",
    "numbers = []\n",
    "lenght = int(input())\n",
    "for angka in range(0,lenght):\n",
    "    angka = int(input())\n",
    "    numbers.append(angka)\n",
    "print(numbers)"
   ]
  },
  {
   "cell_type": "code",
   "execution_count": 43,
   "id": "c5fe12c0",
   "metadata": {},
   "outputs": [
    {
     "name": "stdout",
     "output_type": "stream",
     "text": [
      "(1, 2)\n",
      "(1, 3)\n",
      "(1, 4)\n",
      "(1, 5)\n",
      "(2, 1)\n",
      "(2, 3)\n",
      "(2, 4)\n",
      "(2, 5)\n",
      "(3, 1)\n",
      "(3, 2)\n",
      "(3, 4)\n",
      "(3, 5)\n",
      "(4, 1)\n",
      "(4, 2)\n",
      "(4, 3)\n",
      "(4, 5)\n",
      "(5, 1)\n",
      "(5, 2)\n",
      "(5, 3)\n",
      "(5, 4)\n"
     ]
    }
   ],
   "source": [
    "# and in permutasion \n",
    "muta = it.permutations(numbers,2)\n",
    "for angka in muta:\n",
    "    print(angka)"
   ]
  },
  {
   "cell_type": "code",
   "execution_count": 45,
   "id": "e6a5feaf",
   "metadata": {},
   "outputs": [
    {
     "name": "stdout",
     "output_type": "stream",
     "text": [
      "20\n"
     ]
    }
   ],
   "source": [
    "# and know how many data output\n",
    "data = it.permutations(numbers,2)\n",
    "para = 0\n",
    "for sub in data:\n",
    "    para+=1\n",
    "print(para)"
   ]
  },
  {
   "cell_type": "code",
   "execution_count": 53,
   "id": "3b9dbe5b",
   "metadata": {},
   "outputs": [
    {
     "name": "stdout",
     "output_type": "stream",
     "text": [
      "(1, 2)\n",
      "(1, 3)\n",
      "(1, 4)\n",
      "(1, 5)\n",
      "(2, 3)\n",
      "(2, 4)\n",
      "(2, 5)\n",
      "(3, 4)\n",
      "(3, 5)\n",
      "(4, 5)\n"
     ]
    }
   ],
   "source": [
    "# combination\n",
    "# formula combination = it.combinations(data,r) \n",
    "data = it.combinations(numbers,2)\n",
    "for sub in data:\n",
    "    print(sub)"
   ]
  },
  {
   "cell_type": "code",
   "execution_count": 57,
   "id": "b01fa1b1",
   "metadata": {},
   "outputs": [
    {
     "name": "stdout",
     "output_type": "stream",
     "text": [
      "10\n"
     ]
    }
   ],
   "source": [
    "# many for combinations\n",
    "data = it.combinations(numbers,2)\n",
    "para = 0\n",
    "for sub in list(data):\n",
    "    para+=1\n",
    "print(para)"
   ]
  },
  {
   "cell_type": "code",
   "execution_count": null,
   "id": "dfc5f9b9",
   "metadata": {},
   "outputs": [],
   "source": []
  }
 ],
 "metadata": {
  "kernelspec": {
   "display_name": "Python 3 (ipykernel)",
   "language": "python",
   "name": "python3"
  },
  "language_info": {
   "codemirror_mode": {
    "name": "ipython",
    "version": 3
   },
   "file_extension": ".py",
   "mimetype": "text/x-python",
   "name": "python",
   "nbconvert_exporter": "python",
   "pygments_lexer": "ipython3",
   "version": "3.9.10"
  }
 },
 "nbformat": 4,
 "nbformat_minor": 5
}
