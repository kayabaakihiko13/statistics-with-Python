{
 "cells": [
  {
   "cell_type": "code",
   "execution_count": 13,
   "id": "917ce75d",
   "metadata": {},
   "outputs": [],
   "source": [
    "from itertools import permutations"
   ]
  },
  {
   "cell_type": "code",
   "execution_count": 23,
   "id": "ca1c8cb5",
   "metadata": {},
   "outputs": [
    {
     "name": "stdout",
     "output_type": "stream",
     "text": [
      "how much lenght in list3\n",
      ">2\n",
      ">1\n",
      ">3\n",
      "[2, 1, 3]\n"
     ]
    }
   ],
   "source": [
    "# make input list\n",
    "li =[]\n",
    "lenght = int(input('how much lenght in list'))\n",
    "for i in range(0,lenght):\n",
    "    el= int(input('>'))\n",
    "    li.append(el)\n",
    "print(li)"
   ]
  },
  {
   "cell_type": "code",
   "execution_count": 24,
   "id": "aa983ee9",
   "metadata": {},
   "outputs": [
    {
     "name": "stdout",
     "output_type": "stream",
     "text": [
      "(2, 1, 3)\n",
      "(2, 3, 1)\n",
      "(1, 2, 3)\n",
      "(1, 3, 2)\n",
      "(3, 2, 1)\n",
      "(3, 1, 2)\n"
     ]
    }
   ],
   "source": [
    "# out put the pemutation\n",
    "pem =permutations(li)\n",
    "for angka in pem:\n",
    "    print(angka)\n"
   ]
  },
  {
   "cell_type": "code",
   "execution_count": 25,
   "id": "005406e9",
   "metadata": {},
   "outputs": [
    {
     "name": "stdout",
     "output_type": "stream",
     "text": [
      "0\n"
     ]
    }
   ],
   "source": [
    "# how to output how much lenght the permutation\n",
    "n=0\n",
    "for i in list(pem):\n",
    "    n+=1\n",
    "print(n)"
   ]
  },
  {
   "cell_type": "code",
   "execution_count": 27,
   "id": "548c3698",
   "metadata": {},
   "outputs": [
    {
     "name": "stdout",
     "output_type": "stream",
     "text": [
      "(2, 1)\n",
      "(2, 3)\n",
      "(1, 3)\n"
     ]
    }
   ],
   "source": [
    "# the combinatoric\n",
    "from itertools import combinations\n",
    "Com = combinations(li,2)\n",
    "for angka in Com:\n",
    "    print(angka)"
   ]
  },
  {
   "cell_type": "code",
   "execution_count": null,
   "id": "59785d2f",
   "metadata": {},
   "outputs": [],
   "source": []
  }
 ],
 "metadata": {
  "kernelspec": {
   "display_name": "Python 3 (ipykernel)",
   "language": "python",
   "name": "python3"
  },
  "language_info": {
   "codemirror_mode": {
    "name": "ipython",
    "version": 3
   },
   "file_extension": ".py",
   "mimetype": "text/x-python",
   "name": "python",
   "nbconvert_exporter": "python",
   "pygments_lexer": "ipython3",
   "version": "3.9.10"
  }
 },
 "nbformat": 4,
 "nbformat_minor": 5
}
